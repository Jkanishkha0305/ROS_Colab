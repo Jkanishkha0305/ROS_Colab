{
  "nbformat": 4,
  "nbformat_minor": 0,
  "metadata": {
    "colab": {
      "provenance": [],
      "mount_file_id": "12evWpqG_E8387IkxyKF7YU6LDL_3SeZy",
      "authorship_tag": "ABX9TyMA/zFngQnaGtHcgSmIl5e4",
      "include_colab_link": true
    },
    "kernelspec": {
      "name": "python3",
      "display_name": "Python 3"
    },
    "language_info": {
      "name": "python"
    },
    "accelerator": "GPU",
    "gpuClass": "standard"
  },
  "cells": [
    {
      "cell_type": "markdown",
      "metadata": {
        "id": "view-in-github",
        "colab_type": "text"
      },
      "source": [
        "<a href=\"https://colab.research.google.com/github/Jkanishkha0305/ROS_Colab/blob/main/ROS_Colab.ipynb\" target=\"_parent\"><img src=\"https://colab.research.google.com/assets/colab-badge.svg\" alt=\"Open In Colab\"/></a>"
      ]
    },
    {
      "cell_type": "code",
      "execution_count": 2,
      "metadata": {
        "colab": {
          "base_uri": "https://localhost:8080/",
          "height": 35
        },
        "id": "Uxbehu1QLyOe",
        "outputId": "66ed87bb-e2fd-4fc5-c1f9-98bfa6678436"
      },
      "outputs": [
        {
          "output_type": "execute_result",
          "data": {
            "text/plain": [
              "'/content'"
            ],
            "application/vnd.google.colaboratory.intrinsic+json": {
              "type": "string"
            }
          },
          "metadata": {},
          "execution_count": 2
        }
      ],
      "source": [
        "pwd"
      ]
    },
    {
      "cell_type": "code",
      "source": [
        "%cd /content/drive/MyDrive"
      ],
      "metadata": {
        "colab": {
          "base_uri": "https://localhost:8080/"
        },
        "id": "iQh2_8e1MMA8",
        "outputId": "815f9867-a977-4627-d6d2-44eaf1ee72c4"
      },
      "execution_count": 3,
      "outputs": [
        {
          "output_type": "stream",
          "name": "stdout",
          "text": [
            "/content/drive/MyDrive\n"
          ]
        }
      ]
    },
    {
      "cell_type": "code",
      "source": [
        "ls"
      ],
      "metadata": {
        "colab": {
          "base_uri": "https://localhost:8080/"
        },
        "id": "J25GVXMuMSO2",
        "outputId": "01f35e4f-9902-42a3-d115-6928afb3c5f1"
      },
      "execution_count": 4,
      "outputs": [
        {
          "output_type": "stream",
          "name": "stdout",
          "text": [
            "'Adobe Scan Mar 28, 2022 (1).pdf'\n",
            " Alexa.py\n",
            "\u001b[0m\u001b[01;34m'ARDUBOTICS Workshop'\u001b[0m/\n",
            " automate_building_footprint_extraction_using_instance_segmentation.ipynb\n",
            "'Automated Farming.pdf'\n",
            "\u001b[01;34m'CC_Assignment.rar (Unzipped Files)'\u001b[0m/\n",
            "'Certificate of Internship - Sentient Labs.gdoc'\n",
            " \u001b[01;34mClassroom\u001b[0m/\n",
            "\u001b[01;34m'Club Work'\u001b[0m/\n",
            " \u001b[01;34mColab_Assignments\u001b[0m/\n",
            "\u001b[01;34m'Colab Notebooks'\u001b[0m/\n",
            " conference-template-a4.docx\n",
            "'Copy of Flummoxed Family Feud.gdoc'\n",
            "'Copy of Jeoparty · SlidesCarnival.gslides'\n",
            " covid_19\n",
            " covid_vaccination_report_1620045105501.pdf\n",
            " \u001b[01;34mdatasets\u001b[0m/\n",
            "\u001b[01;34m'DBMS proj'\u001b[0m/\n",
            "'Deep Learning-Project .gdoc'\n",
            "\u001b[01;34m'DFF Competition'\u001b[0m/\n",
            "'DFF- Competition-Requirements.gdoc'\n",
            " \u001b[01;34mDUCEM\u001b[0m/\n",
            " Ducem.gsheet\n",
            "'EIDA 1.jpg'\n",
            "'EIDA Back.pdf'\n",
            "'EIDA Front.pdf'\n",
            " EIDA.pdf\n",
            "'Emirates Robotics Competition.gdoc'\n",
            "'EmiratesTicket1 (1).pdf'\n",
            "'EmiratesTicket1 (2).pdf'\n",
            "'EmiratesTicket1 (3).pdf'\n",
            " EmiratesTicket1.pdf\n",
            "'Engineer'\\''s Day (15th Sept.).gslides'\n",
            "'Engineer'\\''s Day (15th Sept.).pptx'\n",
            "'Engineers Day Quiz.gform'\n",
            "'Events Schedule SEM-1.docx'\n",
            " face_recognizer.py\n",
            " face_taker.py\n",
            " face_train.py\n",
            "'FDS Fetal Health Classification.pptx'\n",
            "'Final .mp4'\n",
            "'Flummoxed Family Feud.gdoc'\n",
            "'Flummoxed Mock Event.zip'\n",
            "'Flummoxed Quiz Questions.gdoc'\n",
            "'Getting started.pdf'\n",
            " gif.gif\n",
            " greengrass-linux-armv7l-1.11.3.tar.gz\n",
            " haarcascade_frontalface_default.xml\n",
            " hands_gesture_recog.py\n",
            " hp5-optimism.gdoc\n",
            "\u001b[01;34m'ID 3 Revised Documents'\u001b[0m/\n",
            "'ID 3 Revised Documents.zip'\n",
            "'IEEE Research Paper covid detection.gdoc'\n",
            " image001.jpg\n",
            "'IMD_FULL NAME (1).dotx'\n",
            "'IMD_FULL NAME.dotx'\n",
            " IMG_4172.HEIC\n",
            " IMG_4173.HEIC\n",
            " IMG_4175.HEIC\n",
            " IMG_4176.HEIC\n",
            " imp_docs_6.pdf\n",
            " J.Kanishkha.jpg\n",
            "\"Kanishkha's Resume.pdf\"\n",
            "'LOR-Sentient Labs.gdoc'\n",
            "'Masters Data.gsheet'\n",
            "\u001b[01;34m'Masters Docs'\u001b[0m/\n",
            "'Masters Plan Doc.gdoc'\n",
            "'Membership 2022-23.gsheet'\n",
            " \u001b[01;34mMisc\u001b[0m/\n",
            "'Nirbhaya - Design Project.gdoc'\n",
            " \u001b[01;34mNNFL\u001b[0m/\n",
            "'NNFL Assignment-2.gdoc'\n",
            "'paper (1).docx.gdoc'\n",
            " paper.docx.gdoc\n",
            "'paper formatting.gdoc'\n",
            " paper.gdoc\n",
            " paper.pages\n",
            " \u001b[01;34mPersonal\u001b[0m/\n",
            " PP1.jpg\n",
            " PP2.jpg\n",
            " PP3.jpg\n",
            " PP.pdf\n",
            "'Practice Questions.gdoc'\n",
            " problem.zip\n",
            "\u001b[01;34m'problem.zip (Unzipped Files)'\u001b[0m/\n",
            "'Project Form.webarchive'\n",
            "'PS-1 Progress.gdoc'\n",
            "'PS I CV format 2021.docx'\n",
            "'Random roll no.s.gdoc'\n",
            " README.md\n",
            " Recommendations.docx\n",
            " Recommendations.gdoc\n",
            " Requirements.gdoc\n",
            "\u001b[01;34m'Research Paper'\u001b[0m/\n",
            "'Research Paper - Intro .gdoc'\n",
            " \u001b[01;34mResume\u001b[0m/\n",
            " RESUME_2019A7PS0072U.pdf\n",
            " Resume.gdoc\n",
            "'Revenue Model.pdf'\n",
            "'Review Document-2 (1).gdoc'\n",
            "'Review Document-2.gdoc'\n",
            " Robotics_Workshop_Manual.pdf\n",
            " samples.zip\n",
            "'SCAN ME.gdoc'\n",
            "'School Workshop Progress (1).docx'\n",
            "'School Workshop Progress.docx'\n",
            "'Screen Recording 2022-09-29 at 2.48.27 PM.mov'\n",
            "\u001b[01;34m'Self_Driving Car_Design_Project'\u001b[0m/\n",
            " splnproc1703.rar\n",
            " splnproc1703.zip\n",
            "'STEM - MTC.gdoc'\n",
            "'Team IFOR Activities Report Sem 1 2022-23.docx'\n",
            "'Team IFOR Activities Report Sem 1 2022-23.gdoc'\n",
            "'TEAM IFOR PPT.gslides'\n",
            " testcode3.ino\n",
            "'Timetable 3rd Year 2nd SEM.gdoc'\n",
            "'Timetable 4th Year 1st SEM.gdoc'\n",
            "'Treasure Hunt.gdoc'\n",
            " \u001b[01;34mUAV_UGV\u001b[0m/\n",
            "\u001b[01;34m'Uni Assignments'\u001b[0m/\n",
            "'VISA Page.pdf'\n",
            " \u001b[01;34myolo\u001b[0m/\n",
            "\u001b[01;34m'yolov5(kanishka)'\u001b[0m/\n",
            " \u001b[01;34myolov7\u001b[0m/\n"
          ]
        }
      ]
    },
    {
      "cell_type": "code",
      "source": [
        "mkdir Github"
      ],
      "metadata": {
        "id": "LqbghTkkMTKG"
      },
      "execution_count": 5,
      "outputs": []
    },
    {
      "cell_type": "code",
      "source": [
        "%cd /content/drive/MyDrive/Github"
      ],
      "metadata": {
        "colab": {
          "base_uri": "https://localhost:8080/"
        },
        "id": "RoxfAUVDMWow",
        "outputId": "4ad389bc-63c2-42b6-9e2e-8d7537a50322"
      },
      "execution_count": 6,
      "outputs": [
        {
          "output_type": "stream",
          "name": "stdout",
          "text": [
            "/content/drive/MyDrive/Github\n"
          ]
        }
      ]
    },
    {
      "cell_type": "code",
      "source": [
        "!git clone https://github.com/Jkanishkha0305/ROS_Colab.git"
      ],
      "metadata": {
        "colab": {
          "base_uri": "https://localhost:8080/"
        },
        "id": "g1DKINLqMelT",
        "outputId": "4e5f6c5d-c34c-47e4-bcec-aaa341f9cc6a"
      },
      "execution_count": 7,
      "outputs": [
        {
          "output_type": "stream",
          "name": "stdout",
          "text": [
            "Cloning into 'ROS_Colab'...\n",
            "remote: Enumerating objects: 4, done.\u001b[K\n",
            "remote: Counting objects: 100% (4/4), done.\u001b[K\n",
            "remote: Compressing objects: 100% (3/3), done.\u001b[K\n",
            "remote: Total 4 (delta 0), reused 0 (delta 0), pack-reused 0\u001b[K\n",
            "Unpacking objects: 100% (4/4), 1.25 KiB | 42.00 KiB/s, done.\n"
          ]
        }
      ]
    },
    {
      "cell_type": "code",
      "source": [
        "%cd /content/drive/MyDrive/Github/ROS_Colab"
      ],
      "metadata": {
        "colab": {
          "base_uri": "https://localhost:8080/"
        },
        "id": "H0M_B2gJMm6q",
        "outputId": "2258d6ea-3578-4a23-9436-01db1d9acf8f"
      },
      "execution_count": 8,
      "outputs": [
        {
          "output_type": "stream",
          "name": "stdout",
          "text": [
            "/content/drive/MyDrive/Github/ROS_Colab\n"
          ]
        }
      ]
    },
    {
      "cell_type": "code",
      "source": [
        "!git add .\n",
        "!git commit -m \"ROS IN COLAB\""
      ],
      "metadata": {
        "colab": {
          "base_uri": "https://localhost:8080/"
        },
        "id": "AxaWlk24M7Gb",
        "outputId": "63a67503-b967-42f0-9105-51dfb358d132"
      },
      "execution_count": 9,
      "outputs": [
        {
          "output_type": "stream",
          "name": "stdout",
          "text": [
            "\n",
            "*** Please tell me who you are.\n",
            "\n",
            "Run\n",
            "\n",
            "  git config --global user.email \"you@example.com\"\n",
            "  git config --global user.name \"Your Name\"\n",
            "\n",
            "to set your account's default identity.\n",
            "Omit --global to set the identity only in this repository.\n",
            "\n",
            "fatal: unable to auto-detect email address (got 'root@9233b44b4b03.(none)')\n"
          ]
        }
      ]
    },
    {
      "cell_type": "code",
      "source": [
        "!git config --global user.email \"f20190072@dubai.bits-pilani.ac.in\"\n",
        "!git config --global user.name \"Jkanishkha0305\""
      ],
      "metadata": {
        "id": "BfLmQCWVNDBP"
      },
      "execution_count": 10,
      "outputs": []
    },
    {
      "cell_type": "code",
      "source": [],
      "metadata": {
        "id": "l3PSd8H5Nhx1"
      },
      "execution_count": null,
      "outputs": []
    },
    {
      "cell_type": "code",
      "source": [
        "!git add .\n",
        "!git commit -m \"ROS IN COLAB\""
      ],
      "metadata": {
        "colab": {
          "base_uri": "https://localhost:8080/"
        },
        "id": "YBl_fSpMNbUR",
        "outputId": "98cf572c-c790-451c-d0a4-1a2171c7adeb"
      },
      "execution_count": 11,
      "outputs": [
        {
          "output_type": "stream",
          "name": "stdout",
          "text": [
            "On branch main\n",
            "Your branch is up to date with 'origin/main'.\n",
            "\n",
            "nothing to commit, working tree clean\n"
          ]
        }
      ]
    },
    {
      "cell_type": "code",
      "source": [],
      "metadata": {
        "id": "IIR0WNevNeqX"
      },
      "execution_count": null,
      "outputs": []
    }
  ]
}